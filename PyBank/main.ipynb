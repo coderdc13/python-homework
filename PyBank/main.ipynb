{
 "cells": [
  {
   "cell_type": "code",
   "execution_count": 1,
   "metadata": {},
   "outputs": [],
   "source": [
    "# 99.99% of work from other sources, including lesson 6 refresher jupyter notebook, python iii zoom videorecording, and JUL 03 2020 FINTECH tutorial session with Ms. LT"
   ]
  },
  {
   "cell_type": "code",
   "execution_count": 101,
   "metadata": {},
   "outputs": [],
   "source": [
    "from pathlib import Path"
   ]
  },
  {
   "cell_type": "code",
   "execution_count": 102,
   "metadata": {},
   "outputs": [],
   "source": [
    "import csv"
   ]
  },
  {
   "cell_type": "code",
   "execution_count": 103,
   "metadata": {},
   "outputs": [
    {
     "name": "stdout",
     "output_type": "stream",
     "text": [
      "['Feb-2010', 'Mar-2010', 'Apr-2010', 'May-2010', 'Jun-2010', 'Jul-2010', 'Aug-2010', 'Sep-2010', 'Oct-2010', 'Nov-2010', 'Dec-2010', 'Jan-2011', 'Feb-2011', 'Mar-2011', 'Apr-2011', 'May-2011', 'Jun-2011', 'Jul-2011', 'Aug-2011', 'Sep-2011', 'Oct-2011', 'Nov-2011', 'Dec-2011', 'Jan-2012', 'Feb-2012', 'Mar-2012', 'Apr-2012', 'May-2012', 'Jun-2012', 'Jul-2012', 'Aug-2012', 'Sep-2012', 'Oct-2012', 'Nov-2012', 'Dec-2012', 'Jan-2013', 'Feb-2013', 'Mar-2013', 'Apr-2013', 'May-2013', 'Jun-2013', 'Jul-2013', 'Aug-2013', 'Sep-2013', 'Oct-2013', 'Nov-2013', 'Dec-2013', 'Jan-2014', 'Feb-2014', 'Mar-2014', 'Apr-2014', 'May-2014', 'Jun-2014', 'Jul-2014', 'Aug-2014', 'Sep-2014', 'Oct-2014', 'Nov-2014', 'Dec-2014', 'Jan-2015', 'Feb-2015', 'Mar-2015', 'Apr-2015', 'May-2015', 'Jun-2015', 'Jul-2015', 'Aug-2015', 'Sep-2015', 'Oct-2015', 'Nov-2015', 'Dec-2015', 'Jan-2016', 'Feb-2016', 'Mar-2016', 'Apr-2016', 'May-2016', 'Jun-2016', 'Jul-2016', 'Aug-2016', 'Sep-2016', 'Oct-2016', 'Nov-2016', 'Dec-2016', 'Jan-2017', 'Feb-2017']\n",
      "[984655, 322013, -69417, 310503, 522857, 1033096, 604885, -216386, 477532, 893810, -80353, 779806, -335203, 697845, 793163, 485070, 584122, 62729, 668179, 899906, 834719, 132003, 309978, -755566, 1170593, 252788, 1151518, 817256, 570757, 506702, -1022534, 475062, 779976, 144175, 542494, 359333, 321469, 67780, 471435, 565603, 872480, 789480, 999942, -1196225, 268997, -687986, 1150461, 682458, 617856, 824098, 581943, 132864, 448062, 689161, 800701, 1166643, 947333, 578668, 988505, 1139715, 1029471, 687533, -524626, 158620, 87795, 423389, 840723, 568529, 332067, 989499, 778237, 650000, -1100387, -174946, 757143, 445709, 712961, -1163797, 569899, 768450, 102685, 795914, 60988, 138230, 671099]\n",
      "[116771, -662642, -391430, 379920, 212354, 510239, -428211, -821271, 693918, 416278, -974163, 860159, -1115009, 1033048, 95318, -308093, 99052, -521393, 605450, 231727, -65187, -702716, 177975, -1065544, 1926159, -917805, 898730, -334262, -246499, -64055, -1529236, 1497596, 304914, -635801, 398319, -183161, -37864, -253689, 403655, 94168, 306877, -83000, 210462, -2196167, 1465222, -956983, 1838447, -468003, -64602, 206242, -242155, -449079, 315198, 241099, 111540, 365942, -219310, -368665, 409837, 151210, -110244, -341938, -1212159, 683246, -70825, 335594, 417334, -272194, -236462, 657432, -211262, -128237, -1750387, 925441, 932089, -311434, 267252, -1876758, 1733696, 198551, -665765, 693229, -734926, 77242, 532869]\n",
      "86\n"
     ]
    }
   ],
   "source": [
    "csvpath = Path('02-Homework_02-Python_Instructions_PyBank_Resources_budget_data.csv') # problems in establishing path rectified by Instructor KS\n",
    "dates = []\n",
    "gains_and_losses = []\n",
    "line_num = 0\n",
    "with open(csvpath, 'r') as csvfile:\n",
    "    \n",
    "    # printing datatype of the file object\n",
    "    # print(type(csvfile))\n",
    "    \n",
    "    # passing in the csv file to csv.reader() function (w ',' as delimiter) and return the csvreader object\n",
    "    csvreader = csv.reader(csvfile, delimiter=',')\n",
    "    \n",
    "    # printing csvreader datatype\n",
    "    # print(type(csvreader))\n",
    "    \n",
    "    # skipping over header and iterating line_num by one\n",
    "    header = next(csvreader)\n",
    "    first_entry = next(csvreader) # extra use of Python 'next' method directly from Ms. LT (FINTECH TUTOR)\n",
    "    line_num += 1\n",
    "    # (firstentry)\n",
    "    prev_profit_loss = int(first_entry[1]) \n",
    "    initial_entry = prev_profit_loss\n",
    "    \"\"\" \n",
    "    having worked this out with the tutor, Ms. LT (on JUL 03, 2020) because of the nature of finding changes and the start for values of changes,\n",
    "    there was the need to have the firstentry = next(csvreader) line and also the prev_profit_loss = int(first_entry[1]) line\n",
    "    \"\"\"\n",
    "    #print(prevprofitloss)\n",
    "    # printing header\n",
    "    # print(f\"{header}\")\n",
    "    delta = []\n",
    "    # reading each row of data after the header\n",
    "    # directly below in this cell except for the print (len...), my desired iterations\n",
    "    # initial_difference = \n",
    "    # print(initial_difference)\n",
    "    for row in csvreader:\n",
    "        # print(row)\n",
    "        date = (row[0])\n",
    "        dates.append(date) # this line and line above adding for dates, exp_w_dates empty set established above\n",
    "        gain_or_loss = int(row[1])\n",
    "        gains_and_losses.append(gain_or_loss) # this line and line directly above adding for profit/losses, aggregate empty set established above\n",
    "        change =  gain_or_loss - prev_profit_loss # structure of looping for values in change directly from Ms. LT\n",
    "        delta.append(change)\n",
    "        prev_profit_loss = gain_or_loss\n",
    "        # in lines above, row are iterated so that a value change is calculated from difference of gain_or_loss and prev_profit_loss\n",
    "        # gain_or_loss value is always being changed from iteration of row, prev_profit_loss is always being changed from definition of gain_or_loss\n",
    "    total_number_of_months = len(dates) + line_num\n",
    "    print(dates)\n",
    "    print(gains_and_losses)\n",
    "    print(delta)\n",
    "    print(total_number_of_months)"
   ]
  },
  {
   "cell_type": "code",
   "execution_count": 104,
   "metadata": {},
   "outputs": [
    {
     "name": "stdout",
     "output_type": "stream",
     "text": [
      "-2315.12\n"
     ]
    }
   ],
   "source": [
    "net_delta_aggregate = 0\n",
    "for item in delta:\n",
    "    net_delta_aggregate += item\n",
    "average_delta = round(net_delta_aggregate/len(dates), 2)\n",
    "print(average_delta)"
   ]
  },
  {
   "cell_type": "code",
   "execution_count": 105,
   "metadata": {},
   "outputs": [
    {
     "name": "stdout",
     "output_type": "stream",
     "text": [
      "37514694\n"
     ]
    }
   ],
   "source": [
    "tally = 0 # idea for tally from Lesson 6 refresher notebook\n",
    "for item in gains_and_losses:\n",
    "    tally += item\n",
    "print(tally)"
   ]
  },
  {
   "cell_type": "code",
   "execution_count": 106,
   "metadata": {},
   "outputs": [],
   "source": [
    "grand_total = tally + initial_entry"
   ]
  },
  {
   "cell_type": "code",
   "execution_count": 107,
   "metadata": {},
   "outputs": [
    {
     "name": "stdout",
     "output_type": "stream",
     "text": [
      "38382578\n"
     ]
    }
   ],
   "source": [
    "print(grand_total)"
   ]
  },
  {
   "cell_type": "code",
   "execution_count": 108,
   "metadata": {},
   "outputs": [],
   "source": [
    "gain_maximum = 0\n",
    "loss_maximum = 0"
   ]
  },
  {
   "cell_type": "code",
   "execution_count": 109,
   "metadata": {},
   "outputs": [],
   "source": [
    "for entry in delta: #structure of finding maximum and minimum from Lesson 6 refresher jupyter notebook\n",
    "    if loss_maximum == 0:\n",
    "        loss_maximum = entry\n",
    "    if entry > gain_maximum:\n",
    "        gain_maximum = entry\n",
    "    elif entry < loss_maximum:\n",
    "        loss_maximum = entry"
   ]
  },
  {
   "cell_type": "code",
   "execution_count": 110,
   "metadata": {},
   "outputs": [
    {
     "name": "stdout",
     "output_type": "stream",
     "text": [
      "-2196167\n"
     ]
    }
   ],
   "source": [
    "print(loss_maximum)\n"
   ]
  },
  {
   "cell_type": "code",
   "execution_count": 111,
   "metadata": {},
   "outputs": [
    {
     "name": "stdout",
     "output_type": "stream",
     "text": [
      "1926159\n"
     ]
    }
   ],
   "source": [
    "print(gain_maximum)\n"
   ]
  },
  {
   "cell_type": "code",
   "execution_count": 112,
   "metadata": {},
   "outputs": [],
   "source": [
    "datemax = dates[delta.index(1926159)]"
   ]
  },
  {
   "cell_type": "code",
   "execution_count": 113,
   "metadata": {},
   "outputs": [],
   "source": [
    "datemin = dates[delta.index(-2196167)]"
   ]
  },
  {
   "cell_type": "code",
   "execution_count": 114,
   "metadata": {},
   "outputs": [
    {
     "name": "stdout",
     "output_type": "stream",
     "text": [
      "Feb-2012\n",
      "Sep-2013\n"
     ]
    }
   ],
   "source": [
    "print(datemax)\n",
    "print(datemin)"
   ]
  },
  {
   "cell_type": "code",
   "execution_count": 115,
   "metadata": {},
   "outputs": [],
   "source": [
    "headline = \"Financial Analysis\""
   ]
  },
  {
   "cell_type": "code",
   "execution_count": 116,
   "metadata": {},
   "outputs": [],
   "source": [
    "# saving 0020 EDT"
   ]
  },
  {
   "cell_type": "code",
   "execution_count": 117,
   "metadata": {},
   "outputs": [],
   "source": [
    "output_path = Path('output.txt') #changing to txt"
   ]
  },
  {
   "cell_type": "code",
   "execution_count": 118,
   "metadata": {},
   "outputs": [],
   "source": [
    "with open(output_path, 'w') as txt_file:\n",
    "    txt_file.write(\"Financial Analysis \\n\")\n",
    "    txt_file.write(\"---------------------------- \\n\")\n",
    "    txt_file.write(f\"Total: ${grand_total} \\n\")\n",
    "    txt_file.write(f\"Average Change: ${average_delta} \\n\")\n",
    "    txt_file.write(f\"Greatest Increase in Profits: {datemax} (${gain_maximum}) \\n\")\n",
    "    txt_file.write(f\"Greatest Decrease in Profits: {datemin} (${loss_maximum}) \\n\")\n",
    "    # txt_file.write(\"financial Analysis\") thanks to Instr. KS for explaining how to do output"
   ]
  },
  {
   "cell_type": "code",
   "execution_count": 119,
   "metadata": {},
   "outputs": [
    {
     "name": "stdout",
     "output_type": "stream",
     "text": [
      "Financial Analysis\n",
      "----------------------------\n",
      "Total: $38382578\n",
      "Average Change: $-2315.12\n",
      "Greatest Increase in Profits: Feb-2012 ($1926159)\n",
      "Greatest Decrease in Profits: Sep-2013 ($-2196167)\n"
     ]
    }
   ],
   "source": [
    "# printing for results on the record\n",
    "with open(output_path, 'w') as txt_file:\n",
    "    print(\"Financial Analysis\")\n",
    "    print(\"----------------------------\")\n",
    "    print(f\"Total: ${grand_total}\")\n",
    "    print(f\"Average Change: ${average_delta}\")\n",
    "    print(f\"Greatest Increase in Profits: {datemax} (${gain_maximum})\")\n",
    "    print(f\"Greatest Decrease in Profits: {datemin} (${loss_maximum})\")\n",
    "    # also thanks to Instr. KS for double checking that we do not need to put non-code in a separate folder, saved a lot of time..."
   ]
  },
  {
   "cell_type": "raw",
   "metadata": {},
   "source": [
    "07 06 2020 2246 EDT"
   ]
  },
  {
   "cell_type": "code",
   "execution_count": null,
   "metadata": {},
   "outputs": [],
   "source": []
  },
  {
   "cell_type": "code",
   "execution_count": null,
   "metadata": {},
   "outputs": [],
   "source": []
  }
 ],
 "metadata": {
  "kernelspec": {
   "display_name": "Python 3",
   "language": "python",
   "name": "python3"
  },
  "language_info": {
   "codemirror_mode": {
    "name": "ipython",
    "version": 3
   },
   "file_extension": ".py",
   "mimetype": "text/x-python",
   "name": "python",
   "nbconvert_exporter": "python",
   "pygments_lexer": "ipython3",
   "version": "3.7.6"
  }
 },
 "nbformat": 4,
 "nbformat_minor": 4
}
